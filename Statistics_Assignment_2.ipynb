{
 "cells": [
  {
   "cell_type": "markdown",
   "id": "728a4f32-8a85-42fd-b0bf-3b448abda454",
   "metadata": {},
   "source": [
    "#### Q1. What are the three measures of central tendency?\n",
    "\n",
    "####  Q2. What is the difference between the mean, median, and mode? How are they used to measure the central tendency of a dataset?\n",
    "\n",
    "#### Q3. Measure the three measures of central tendency for the given height data:\n",
    "#### [178,177,176,177,178.2,178,175,179,180,175,178.9,176.2,177,172.5,178,176.5]\n",
    "\n",
    "#### Q4. Find the standard deviation for the given data:\n",
    "#### [178,177,176,177,178.2,178,175,179,180,175,178.9,176.2,177,172.5,178,176.5]\n",
    "\n",
    "#### Q5. How are measures of dispersion such as range, variance, and standard deviation used to describe the spread of a dataset? Provide an example.\n",
    "\n",
    "#### Q6. What is a Venn diagram?\n",
    "\n",
    "#### Q7. For the two given sets A = (2,3,4,5,6,7) & B = (0,2,6,8,10). Find:\n",
    "#### (i) A B\n",
    "#### (ii) A ⋃ B\n",
    "\n",
    "#### Q8. What do you understand about skewness in data?\n",
    "\n",
    "#### Q9. If a data is right skewed then what will be the position of median with respect to mean?\n",
    "\n",
    "#### Q10. Explain the difference between covariance and correlation. How are these measures used in statistical analysis?\n",
    "\n",
    "####  Q11. What is the formula for calculating the sample mean? Provide an example calculation for a dataset.\n",
    "\n",
    "#### Q12. For a normal distribution data what is the relationship between its measure of central tendency?\n",
    "\n",
    "####  Q13. How is covariance different from correlation?\n",
    "\n",
    "####  Q14. How do outliers affect measures of central tendency and dispersion? Provide an example."
   ]
  },
  {
   "cell_type": "markdown",
   "id": "5f498678-5bbc-4a10-be4f-e7eda7029b38",
   "metadata": {},
   "source": [
    "## Answers"
   ]
  },
  {
   "cell_type": "markdown",
   "id": "c6a4d97e-40df-4dcb-8e44-684af6583093",
   "metadata": {},
   "source": [
    "#### Q1. What are the three measures of central tendency?"
   ]
  },
  {
   "cell_type": "code",
   "execution_count": null,
   "id": "f02a11b4-e179-4e15-8d86-631c1aabb9e0",
   "metadata": {},
   "outputs": [],
   "source": [
    "1. Mean\n",
    "2. Median\n",
    "3. Mode"
   ]
  },
  {
   "cell_type": "markdown",
   "id": "986ee038-8c45-496a-9663-1448633f5f16",
   "metadata": {},
   "source": [
    "### Q2. What is the difference between the mean, median, and mode? How are they used to measure the central tendency of a dataset?"
   ]
  },
  {
   "cell_type": "markdown",
   "id": "7c8a0885-b00f-4c69-a0c5-6afe8f6e5182",
   "metadata": {},
   "source": [
    "#### 1. Mean:\n",
    "###### Definition: \n",
    "The mean is the average of all the values in a dataset. It is calculated by adding up all the values and then dividing the sum by the number of data points.\n",
    "\n",
    "###### Sensitivity to Extreme Values:\n",
    "The mean is sensitive to extreme values, as it takes into account the magnitude of each data point. A single extreme value can significantly affect the mean, pulling it towards higher or lower values.\n",
    "\n",
    "###### Application: \n",
    "The mean is commonly used when dealing with data that has a roughly symmetrical distribution without many extreme values. It is useful for continuous and interval data.\n",
    "\n",
    "#### 2.Median:\n",
    "###### Definition: \n",
    "The median is the middle value in a dataset when it is ordered from lowest to highest. If the dataset has an odd number of data points, there will be one exact middle value. If the dataset has an even number of data points, the median is the average of the two middle values.\n",
    "\n",
    "###### Sensitivity to Extreme Values: \n",
    "The median is less sensitive to extreme values compared to the mean. It only considers the position of the values and not their magnitude. Consequently, extreme values do not significantly influence the median.\n",
    "\n",
    "###### Application: \n",
    "The median is particularly useful when dealing with skewed distributions or data that may contain outliers. It is commonly used for ordinal and continuous data.\n",
    "\n",
    "#### 3.Mode:\n",
    "###### Definition:\n",
    "The mode is the value that appears most frequently in a dataset. It represents the most common value in the data.\n",
    "\n",
    "###### Sensitivity to Extreme Values:\n",
    "The mode is not affected by extreme values. It is solely determined by the frequency of each value in the dataset.\n",
    "Application: The mode is often used when dealing with categorical data or discrete data, where values represent categories or groups rather than numerical quantities. It can be useful for identifying the most common category or value in the dataset."
   ]
  },
  {
   "cell_type": "code",
   "execution_count": 1,
   "id": "30332cf9-570a-4e7c-850b-83e6ee2cdbc4",
   "metadata": {},
   "outputs": [],
   "source": [
    "import seaborn as sns"
   ]
  },
  {
   "cell_type": "code",
   "execution_count": 2,
   "id": "704b8fbb-9105-4b9e-8b7b-027150f4c3ac",
   "metadata": {},
   "outputs": [],
   "source": [
    "data=sns.load_dataset('tips')"
   ]
  },
  {
   "cell_type": "code",
   "execution_count": 5,
   "id": "87675919-c489-4ecb-814a-dcdd41a5ad1d",
   "metadata": {},
   "outputs": [
    {
     "name": "stderr",
     "output_type": "stream",
     "text": [
      "/tmp/ipykernel_711/531903386.py:1: FutureWarning: The default value of numeric_only in DataFrame.mean is deprecated. In a future version, it will default to False. In addition, specifying 'numeric_only=None' is deprecated. Select only valid columns or specify the value of numeric_only to silence this warning.\n",
      "  data.mean()\n"
     ]
    },
    {
     "data": {
      "text/plain": [
       "total_bill    19.785943\n",
       "tip            2.998279\n",
       "size           2.569672\n",
       "dtype: float64"
      ]
     },
     "execution_count": 5,
     "metadata": {},
     "output_type": "execute_result"
    }
   ],
   "source": [
    "data.mean()"
   ]
  },
  {
   "cell_type": "code",
   "execution_count": 6,
   "id": "ed53d9b1-32ad-4ed9-8478-85c0efcc2e37",
   "metadata": {},
   "outputs": [
    {
     "name": "stderr",
     "output_type": "stream",
     "text": [
      "/tmp/ipykernel_711/4184645713.py:1: FutureWarning: The default value of numeric_only in DataFrame.median is deprecated. In a future version, it will default to False. In addition, specifying 'numeric_only=None' is deprecated. Select only valid columns or specify the value of numeric_only to silence this warning.\n",
      "  data.median()\n"
     ]
    },
    {
     "data": {
      "text/plain": [
       "total_bill    17.795\n",
       "tip            2.900\n",
       "size           2.000\n",
       "dtype: float64"
      ]
     },
     "execution_count": 6,
     "metadata": {},
     "output_type": "execute_result"
    }
   ],
   "source": [
    "data.median()"
   ]
  },
  {
   "cell_type": "code",
   "execution_count": 7,
   "id": "f0b6a9cb-b609-4ed5-bfdb-8847130b3a70",
   "metadata": {},
   "outputs": [
    {
     "data": {
      "text/html": [
       "<div>\n",
       "<style scoped>\n",
       "    .dataframe tbody tr th:only-of-type {\n",
       "        vertical-align: middle;\n",
       "    }\n",
       "\n",
       "    .dataframe tbody tr th {\n",
       "        vertical-align: top;\n",
       "    }\n",
       "\n",
       "    .dataframe thead th {\n",
       "        text-align: right;\n",
       "    }\n",
       "</style>\n",
       "<table border=\"1\" class=\"dataframe\">\n",
       "  <thead>\n",
       "    <tr style=\"text-align: right;\">\n",
       "      <th></th>\n",
       "      <th>total_bill</th>\n",
       "      <th>tip</th>\n",
       "      <th>sex</th>\n",
       "      <th>smoker</th>\n",
       "      <th>day</th>\n",
       "      <th>time</th>\n",
       "      <th>size</th>\n",
       "    </tr>\n",
       "  </thead>\n",
       "  <tbody>\n",
       "    <tr>\n",
       "      <th>0</th>\n",
       "      <td>13.42</td>\n",
       "      <td>2.0</td>\n",
       "      <td>Male</td>\n",
       "      <td>No</td>\n",
       "      <td>Sat</td>\n",
       "      <td>Dinner</td>\n",
       "      <td>2</td>\n",
       "    </tr>\n",
       "  </tbody>\n",
       "</table>\n",
       "</div>"
      ],
      "text/plain": [
       "   total_bill  tip   sex smoker  day    time  size\n",
       "0       13.42  2.0  Male     No  Sat  Dinner     2"
      ]
     },
     "execution_count": 7,
     "metadata": {},
     "output_type": "execute_result"
    }
   ],
   "source": [
    "data.mode()"
   ]
  },
  {
   "cell_type": "markdown",
   "id": "b1418b3b-612b-4de0-924a-8b3d53c40828",
   "metadata": {},
   "source": [
    "### Q3. Measure the three measures of central tendency for the given height data:\n",
    "[178,177,176,177,178.2,178,175,179,180,175,178.9,176.2,177,172.5,178,176.5]"
   ]
  },
  {
   "cell_type": "code",
   "execution_count": 8,
   "id": "4628cecb-e19c-4223-a09f-50832763b7fb",
   "metadata": {},
   "outputs": [],
   "source": [
    "hight=[178,177,176,177,178.2,178,175,179,180,175,178.9,176.2,177,172.5,178,176.5]"
   ]
  },
  {
   "cell_type": "code",
   "execution_count": 10,
   "id": "1dd173c2-e790-457f-8f59-cbd2ad96d337",
   "metadata": {},
   "outputs": [],
   "source": [
    "import pandas as pd"
   ]
  },
  {
   "cell_type": "code",
   "execution_count": 11,
   "id": "ec35dd24-c439-487d-80dc-21ce4dbcad05",
   "metadata": {},
   "outputs": [],
   "source": [
    "df=pd.DataFrame({\"Hight\":hight})"
   ]
  },
  {
   "cell_type": "code",
   "execution_count": 12,
   "id": "f4907eff-98d8-4e6e-bfc3-664175d8dadc",
   "metadata": {},
   "outputs": [
    {
     "data": {
      "text/plain": [
       "Hight    177.01875\n",
       "dtype: float64"
      ]
     },
     "execution_count": 12,
     "metadata": {},
     "output_type": "execute_result"
    }
   ],
   "source": [
    "df.mean()"
   ]
  },
  {
   "cell_type": "code",
   "execution_count": 13,
   "id": "a5653441-73fc-4bec-bacc-848e1d5aa4d7",
   "metadata": {},
   "outputs": [
    {
     "data": {
      "text/plain": [
       "Hight    177.0\n",
       "dtype: float64"
      ]
     },
     "execution_count": 13,
     "metadata": {},
     "output_type": "execute_result"
    }
   ],
   "source": [
    "df.median()"
   ]
  },
  {
   "cell_type": "code",
   "execution_count": 14,
   "id": "aeeac5a8-da3f-4421-bf88-fd3291696911",
   "metadata": {},
   "outputs": [
    {
     "data": {
      "text/html": [
       "<div>\n",
       "<style scoped>\n",
       "    .dataframe tbody tr th:only-of-type {\n",
       "        vertical-align: middle;\n",
       "    }\n",
       "\n",
       "    .dataframe tbody tr th {\n",
       "        vertical-align: top;\n",
       "    }\n",
       "\n",
       "    .dataframe thead th {\n",
       "        text-align: right;\n",
       "    }\n",
       "</style>\n",
       "<table border=\"1\" class=\"dataframe\">\n",
       "  <thead>\n",
       "    <tr style=\"text-align: right;\">\n",
       "      <th></th>\n",
       "      <th>Hight</th>\n",
       "    </tr>\n",
       "  </thead>\n",
       "  <tbody>\n",
       "    <tr>\n",
       "      <th>0</th>\n",
       "      <td>177.0</td>\n",
       "    </tr>\n",
       "    <tr>\n",
       "      <th>1</th>\n",
       "      <td>178.0</td>\n",
       "    </tr>\n",
       "  </tbody>\n",
       "</table>\n",
       "</div>"
      ],
      "text/plain": [
       "   Hight\n",
       "0  177.0\n",
       "1  178.0"
      ]
     },
     "execution_count": 14,
     "metadata": {},
     "output_type": "execute_result"
    }
   ],
   "source": [
    "df.mode()"
   ]
  },
  {
   "cell_type": "markdown",
   "id": "9f983715-ec18-498b-94bd-450c6dfae2f8",
   "metadata": {},
   "source": [
    "### Q4. Find the standard deviation for the given data:\n",
    "### [178,177,176,177,178.2,178,175,179,180,175,178.9,176.2,177,172.5,178,176.5]"
   ]
  },
  {
   "cell_type": "code",
   "execution_count": 19,
   "id": "32a89299-f393-4a57-8876-de5b13109bca",
   "metadata": {},
   "outputs": [],
   "source": [
    "df1=pd.DataFrame({\"Data\":[178,177,176,177,178.2,178,175,179,180,175,178.9,176.2,177,172.5,178,176.5]})"
   ]
  },
  {
   "cell_type": "code",
   "execution_count": 20,
   "id": "6b98c038-6212-485e-911c-e699677de871",
   "metadata": {},
   "outputs": [
    {
     "data": {
      "text/html": [
       "<div>\n",
       "<style scoped>\n",
       "    .dataframe tbody tr th:only-of-type {\n",
       "        vertical-align: middle;\n",
       "    }\n",
       "\n",
       "    .dataframe tbody tr th {\n",
       "        vertical-align: top;\n",
       "    }\n",
       "\n",
       "    .dataframe thead th {\n",
       "        text-align: right;\n",
       "    }\n",
       "</style>\n",
       "<table border=\"1\" class=\"dataframe\">\n",
       "  <thead>\n",
       "    <tr style=\"text-align: right;\">\n",
       "      <th></th>\n",
       "      <th>Data</th>\n",
       "    </tr>\n",
       "  </thead>\n",
       "  <tbody>\n",
       "    <tr>\n",
       "      <th>0</th>\n",
       "      <td>178.0</td>\n",
       "    </tr>\n",
       "    <tr>\n",
       "      <th>1</th>\n",
       "      <td>177.0</td>\n",
       "    </tr>\n",
       "    <tr>\n",
       "      <th>2</th>\n",
       "      <td>176.0</td>\n",
       "    </tr>\n",
       "    <tr>\n",
       "      <th>3</th>\n",
       "      <td>177.0</td>\n",
       "    </tr>\n",
       "    <tr>\n",
       "      <th>4</th>\n",
       "      <td>178.2</td>\n",
       "    </tr>\n",
       "  </tbody>\n",
       "</table>\n",
       "</div>"
      ],
      "text/plain": [
       "    Data\n",
       "0  178.0\n",
       "1  177.0\n",
       "2  176.0\n",
       "3  177.0\n",
       "4  178.2"
      ]
     },
     "execution_count": 20,
     "metadata": {},
     "output_type": "execute_result"
    }
   ],
   "source": [
    "df1.head()"
   ]
  },
  {
   "cell_type": "code",
   "execution_count": 21,
   "id": "22bde58b-2cab-4b60-aec9-b2fc9cb80d5e",
   "metadata": {},
   "outputs": [
    {
     "data": {
      "text/plain": [
       "Data    1.847239\n",
       "dtype: float64"
      ]
     },
     "execution_count": 21,
     "metadata": {},
     "output_type": "execute_result"
    }
   ],
   "source": [
    "df1.std()"
   ]
  },
  {
   "cell_type": "markdown",
   "id": "6f4b96f6-144f-49ce-98b6-780e8f96b7fa",
   "metadata": {},
   "source": [
    "### Q5. How are measures of dispersion such as range, variance, and standard deviation used to describe the spread of a dataset? Provide an example."
   ]
  },
  {
   "cell_type": "markdown",
   "id": "ff22f8e7-5f24-420c-af85-7b17bc52493b",
   "metadata": {},
   "source": [
    "#### Range:\n",
    "The range is the simplest measure of dispersion, representing the difference between the maximum and minimum values in a dataset.\n",
    "\n",
    "##### Calculation: Range = Maximum Value - Minimum Value\n",
    "#####  Use:\n",
    "The range gives a basic idea of how widely the data points are spread, but it can be influenced by outliers and is not very robust against extreme values.\n",
    "\n",
    "##### Example: \n",
    "Consider the following dataset representing the number of hours studied by students for an exam:\n",
    "4,6,5,7,8,3,6,5,9\n",
    "\n",
    "Range = 6 (Maximum Value: 9 - Minimum Value: 3)"
   ]
  },
  {
   "cell_type": "markdown",
   "id": "feec2368-c365-4615-8ec9-cabdba3a929a",
   "metadata": {},
   "source": [
    "### Variance:\n",
    "Variance measures the average of the squared differences between each data point and the mean of the dataset. It provides a more comprehensive view of the dispersion.\n",
    "\n",
    "### Use: \n",
    "Variance is valuable for understanding how much the data points deviate from the mean. However, because it involves squared differences, its unit is not the same as the original data, making it less interpretable."
   ]
  },
  {
   "cell_type": "markdown",
   "id": "1bcd2e25-06fb-4014-9d10-73e969552cee",
   "metadata": {},
   "source": [
    "### Standard Deviation:\n",
    "The standard deviation is the square root of the variance and is often preferred over variance because it is in the same unit as the original data, making it more interpretable.\n",
    "Calculation: Standard Deviation = squrroot(variance)\n",
    "\n",
    "##### Use:\n",
    "Standard deviation provides a measure of the average deviation of data points from the mean, indicating how tightly or widely the data is clustered around the mean."
   ]
  },
  {
   "cell_type": "code",
   "execution_count": 22,
   "id": "6fadd1ab-e08d-48a7-a926-ef34a0a2ea36",
   "metadata": {},
   "outputs": [
    {
     "data": {
      "text/plain": [
       "Data    1.847239\n",
       "dtype: float64"
      ]
     },
     "execution_count": 22,
     "metadata": {},
     "output_type": "execute_result"
    }
   ],
   "source": [
    "df1.std()"
   ]
  },
  {
   "cell_type": "code",
   "execution_count": 23,
   "id": "31368a14-d850-4c04-9397-cac78c32b69e",
   "metadata": {},
   "outputs": [
    {
     "data": {
      "text/plain": [
       "Data    3.412292\n",
       "dtype: float64"
      ]
     },
     "execution_count": 23,
     "metadata": {},
     "output_type": "execute_result"
    }
   ],
   "source": [
    "df1.var()"
   ]
  },
  {
   "cell_type": "code",
   "execution_count": 36,
   "id": "d5f1025b-0edd-4498-b416-9873bd6588be",
   "metadata": {},
   "outputs": [
    {
     "data": {
      "text/plain": [
       "7.5"
      ]
     },
     "execution_count": 36,
     "metadata": {},
     "output_type": "execute_result"
    }
   ],
   "source": [
    "range=df[\"Hight\"].max()-df['Hight'].min()\n",
    "range"
   ]
  },
  {
   "cell_type": "markdown",
   "id": "d97a4913-e624-49a6-96f9-55eb45b194c0",
   "metadata": {},
   "source": [
    "### Q6. What is a Venn diagram?\n"
   ]
  },
  {
   "cell_type": "markdown",
   "id": "45a63afe-5131-4b51-8f14-e081c580c3f9",
   "metadata": {},
   "source": [
    "A Venn diagram is a visual representation used to show the relationships and commonalities between different sets of items or groups. It consists of overlapping circles or other simple closed shapes, with each circle representing a specific set, and the overlapping regions representing the intersections between sets."
   ]
  },
  {
   "cell_type": "markdown",
   "id": "d5c7990c-827b-4ff8-ab35-60d0c4f0e3a6",
   "metadata": {},
   "source": [
    "### Q7. For the two given sets A = (2,3,4,5,6,7) & B = (0,2,6,8,10). Find:\n",
    "### (i) A B\n",
    "### (ii) A ⋃ B"
   ]
  },
  {
   "cell_type": "code",
   "execution_count": 38,
   "id": "75ad5c45-6dc2-4f3e-942f-96475d7a60aa",
   "metadata": {},
   "outputs": [],
   "source": [
    "t1 = (2,3,4,5,6,7) \n",
    "t2 = (0,2,6,8,10)\n",
    "A=set(t1)\n",
    "B=set(t2)"
   ]
  },
  {
   "cell_type": "code",
   "execution_count": 39,
   "id": "ebc2e243-7fcc-48e8-afc5-065815c39ff1",
   "metadata": {},
   "outputs": [
    {
     "data": {
      "text/plain": [
       "{2, 6}"
      ]
     },
     "execution_count": 39,
     "metadata": {},
     "output_type": "execute_result"
    }
   ],
   "source": [
    "A.intersection(B)"
   ]
  },
  {
   "cell_type": "code",
   "execution_count": 40,
   "id": "eb0646ec-bd9f-482d-81b6-47dde837925f",
   "metadata": {},
   "outputs": [
    {
     "data": {
      "text/plain": [
       "{0, 2, 3, 4, 5, 6, 7, 8, 10}"
      ]
     },
     "execution_count": 40,
     "metadata": {},
     "output_type": "execute_result"
    }
   ],
   "source": [
    "A.union(B)"
   ]
  },
  {
   "cell_type": "markdown",
   "id": "2316db01-a2f0-4155-abbb-9f67b0235a10",
   "metadata": {},
   "source": [
    "### Q8. What do you understand about skewness in data?"
   ]
  },
  {
   "cell_type": "markdown",
   "id": "713a77d3-bb33-441e-867c-6197d49e82fe",
   "metadata": {},
   "source": [
    "Skewness is a statistical measure that describes the asymmetry of the probability distribution of a dataset. In data analysis, it helps to understand the shape of the distribution and how the data points are distributed around the central tendency (mean, median, or mode). A dataset can be either positively skewed, negatively skewed, or approximately symmetric (symmetrical).\n",
    "\n",
    "## Skewness= 3(Mean−Median)/Standard Deviation\n",
    "\n",
    "1. If the skewness value is greater than 0, the data is positively skewed.\n",
    "\n",
    "2. If the skewness value is less than 0, the data is negatively skewed.\n",
    "\n",
    "3. If the skewness value is approximately 0, the data is approximately symmetric."
   ]
  },
  {
   "cell_type": "markdown",
   "id": "d196b950-367e-4aee-a4bc-b994548c0232",
   "metadata": {},
   "source": [
    "### Q9. If a data is right skewed then what will be the position of median with respect to mean?"
   ]
  },
  {
   "cell_type": "markdown",
   "id": "965625a7-5878-435d-b16a-756df97c38d3",
   "metadata": {},
   "source": [
    "Mean is gratter than median"
   ]
  },
  {
   "cell_type": "markdown",
   "id": "04952204-7d4b-4bad-b402-cbf43aa93091",
   "metadata": {},
   "source": [
    "### Q10. Explain the difference between covariance and correlation. How are these measures used in statistical analysis?"
   ]
  },
  {
   "cell_type": "markdown",
   "id": "7dfccb67-81ec-483e-99a4-f4f045b525e5",
   "metadata": {},
   "source": [
    "#### Covariance:\n",
    "Covariance is a measure that quantifies the degree to which two variables change together. It indicates the direction of the relationship (positive or negative) and whether the variables tend to increase or decrease together."
   ]
  },
  {
   "cell_type": "code",
   "execution_count": 44,
   "id": "28bd96af-de3f-4f15-9cc4-5bc6d315e3b9",
   "metadata": {},
   "outputs": [
    {
     "name": "stderr",
     "output_type": "stream",
     "text": [
      "/tmp/ipykernel_711/445316826.py:1: FutureWarning: The default value of numeric_only in DataFrame.var is deprecated. In a future version, it will default to False. In addition, specifying 'numeric_only=None' is deprecated. Select only valid columns or specify the value of numeric_only to silence this warning.\n",
      "  data.var()\n"
     ]
    },
    {
     "data": {
      "text/plain": [
       "total_bill    79.252939\n",
       "tip            1.914455\n",
       "size           0.904591\n",
       "dtype: float64"
      ]
     },
     "execution_count": 44,
     "metadata": {},
     "output_type": "execute_result"
    }
   ],
   "source": [
    "data.var()"
   ]
  },
  {
   "cell_type": "markdown",
   "id": "b1a9b6da-d5ed-4c25-a490-f1fe00cbd824",
   "metadata": {},
   "source": [
    "### Correlation:\n",
    "Correlation, on the other hand, is a standardized measure of the relationship between two variables. It represents the strength and direction of the linear relationship between the variables, regardless of the scale of the variables. "
   ]
  },
  {
   "cell_type": "code",
   "execution_count": 43,
   "id": "fcedac9e-9892-4264-a16e-2cd6d54c3007",
   "metadata": {},
   "outputs": [
    {
     "name": "stderr",
     "output_type": "stream",
     "text": [
      "/tmp/ipykernel_711/2627137660.py:1: FutureWarning: The default value of numeric_only in DataFrame.corr is deprecated. In a future version, it will default to False. Select only valid columns or specify the value of numeric_only to silence this warning.\n",
      "  data.corr()\n"
     ]
    },
    {
     "data": {
      "text/html": [
       "<div>\n",
       "<style scoped>\n",
       "    .dataframe tbody tr th:only-of-type {\n",
       "        vertical-align: middle;\n",
       "    }\n",
       "\n",
       "    .dataframe tbody tr th {\n",
       "        vertical-align: top;\n",
       "    }\n",
       "\n",
       "    .dataframe thead th {\n",
       "        text-align: right;\n",
       "    }\n",
       "</style>\n",
       "<table border=\"1\" class=\"dataframe\">\n",
       "  <thead>\n",
       "    <tr style=\"text-align: right;\">\n",
       "      <th></th>\n",
       "      <th>total_bill</th>\n",
       "      <th>tip</th>\n",
       "      <th>size</th>\n",
       "    </tr>\n",
       "  </thead>\n",
       "  <tbody>\n",
       "    <tr>\n",
       "      <th>total_bill</th>\n",
       "      <td>1.000000</td>\n",
       "      <td>0.675734</td>\n",
       "      <td>0.598315</td>\n",
       "    </tr>\n",
       "    <tr>\n",
       "      <th>tip</th>\n",
       "      <td>0.675734</td>\n",
       "      <td>1.000000</td>\n",
       "      <td>0.489299</td>\n",
       "    </tr>\n",
       "    <tr>\n",
       "      <th>size</th>\n",
       "      <td>0.598315</td>\n",
       "      <td>0.489299</td>\n",
       "      <td>1.000000</td>\n",
       "    </tr>\n",
       "  </tbody>\n",
       "</table>\n",
       "</div>"
      ],
      "text/plain": [
       "            total_bill       tip      size\n",
       "total_bill    1.000000  0.675734  0.598315\n",
       "tip           0.675734  1.000000  0.489299\n",
       "size          0.598315  0.489299  1.000000"
      ]
     },
     "execution_count": 43,
     "metadata": {},
     "output_type": "execute_result"
    }
   ],
   "source": [
    "data.corr()"
   ]
  },
  {
   "cell_type": "markdown",
   "id": "6de222af-7e70-4841-9110-aeb428ec49fe",
   "metadata": {},
   "source": [
    "### Q10. Explain the difference between covariance and correlation. How are these measures used in statistical analysis?\n",
    "\n",
    "\n",
    "\n"
   ]
  },
  {
   "cell_type": "markdown",
   "id": "b5ed882a-7342-4678-a55d-4b50752c87df",
   "metadata": {},
   "source": [
    "Both covariance and correlation measure the relationship and the dependency between two variables. Covariance indicates the direction of the linear relationship between variables. Correlation measures both the strength and direction of the linear relationship between two variables."
   ]
  },
  {
   "cell_type": "code",
   "execution_count": 52,
   "id": "ff68bd0d-b589-4d36-b607-39d51f138e96",
   "metadata": {},
   "outputs": [
    {
     "name": "stderr",
     "output_type": "stream",
     "text": [
      "/tmp/ipykernel_711/445316826.py:1: FutureWarning: The default value of numeric_only in DataFrame.var is deprecated. In a future version, it will default to False. In addition, specifying 'numeric_only=None' is deprecated. Select only valid columns or specify the value of numeric_only to silence this warning.\n",
      "  data.var()\n"
     ]
    },
    {
     "data": {
      "text/plain": [
       "total_bill    79.252939\n",
       "tip            1.914455\n",
       "size           0.904591\n",
       "dtype: float64"
      ]
     },
     "execution_count": 52,
     "metadata": {},
     "output_type": "execute_result"
    }
   ],
   "source": [
    "data.var()"
   ]
  },
  {
   "cell_type": "code",
   "execution_count": 53,
   "id": "21027e82-52d4-4479-802c-f004bce19f70",
   "metadata": {},
   "outputs": [
    {
     "name": "stderr",
     "output_type": "stream",
     "text": [
      "/tmp/ipykernel_711/2627137660.py:1: FutureWarning: The default value of numeric_only in DataFrame.corr is deprecated. In a future version, it will default to False. Select only valid columns or specify the value of numeric_only to silence this warning.\n",
      "  data.corr()\n"
     ]
    },
    {
     "data": {
      "text/html": [
       "<div>\n",
       "<style scoped>\n",
       "    .dataframe tbody tr th:only-of-type {\n",
       "        vertical-align: middle;\n",
       "    }\n",
       "\n",
       "    .dataframe tbody tr th {\n",
       "        vertical-align: top;\n",
       "    }\n",
       "\n",
       "    .dataframe thead th {\n",
       "        text-align: right;\n",
       "    }\n",
       "</style>\n",
       "<table border=\"1\" class=\"dataframe\">\n",
       "  <thead>\n",
       "    <tr style=\"text-align: right;\">\n",
       "      <th></th>\n",
       "      <th>total_bill</th>\n",
       "      <th>tip</th>\n",
       "      <th>size</th>\n",
       "    </tr>\n",
       "  </thead>\n",
       "  <tbody>\n",
       "    <tr>\n",
       "      <th>total_bill</th>\n",
       "      <td>1.000000</td>\n",
       "      <td>0.675734</td>\n",
       "      <td>0.598315</td>\n",
       "    </tr>\n",
       "    <tr>\n",
       "      <th>tip</th>\n",
       "      <td>0.675734</td>\n",
       "      <td>1.000000</td>\n",
       "      <td>0.489299</td>\n",
       "    </tr>\n",
       "    <tr>\n",
       "      <th>size</th>\n",
       "      <td>0.598315</td>\n",
       "      <td>0.489299</td>\n",
       "      <td>1.000000</td>\n",
       "    </tr>\n",
       "  </tbody>\n",
       "</table>\n",
       "</div>"
      ],
      "text/plain": [
       "            total_bill       tip      size\n",
       "total_bill    1.000000  0.675734  0.598315\n",
       "tip           0.675734  1.000000  0.489299\n",
       "size          0.598315  0.489299  1.000000"
      ]
     },
     "execution_count": 53,
     "metadata": {},
     "output_type": "execute_result"
    }
   ],
   "source": [
    "data.corr()"
   ]
  },
  {
   "cell_type": "markdown",
   "id": "43df7826-762f-4491-b929-1d2703b87847",
   "metadata": {},
   "source": [
    "### Q11. What is the formula for calculating the sample mean? Provide an example calculation for a dataset."
   ]
  },
  {
   "cell_type": "markdown",
   "id": "0837265d-6ba4-40a5-9cb2-057178808ebf",
   "metadata": {},
   "source": [
    "Formula : sum of the all element present in the sample data and divide the size of the sample data\n",
    "\n",
    "Example\n",
    "data={6,1,8}\n",
    "\n",
    "sample mean=(6+8+1)/3\n",
    "sample mean=5"
   ]
  },
  {
   "cell_type": "code",
   "execution_count": 57,
   "id": "9e7a4249-ce31-4497-aaef-aeff69564104",
   "metadata": {},
   "outputs": [
    {
     "name": "stderr",
     "output_type": "stream",
     "text": [
      "/tmp/ipykernel_711/531903386.py:1: FutureWarning: The default value of numeric_only in DataFrame.mean is deprecated. In a future version, it will default to False. In addition, specifying 'numeric_only=None' is deprecated. Select only valid columns or specify the value of numeric_only to silence this warning.\n",
      "  data.mean()\n"
     ]
    },
    {
     "data": {
      "text/plain": [
       "total_bill    19.785943\n",
       "tip            2.998279\n",
       "size           2.569672\n",
       "dtype: float64"
      ]
     },
     "execution_count": 57,
     "metadata": {},
     "output_type": "execute_result"
    }
   ],
   "source": [
    "data.mean()"
   ]
  },
  {
   "cell_type": "markdown",
   "id": "15b130ab-9a7e-4fe5-ab7c-48ba07fdef9c",
   "metadata": {},
   "source": [
    "### Q12. For a normal distribution data what is the relationship between its measure of central tendency?"
   ]
  },
  {
   "cell_type": "markdown",
   "id": "8cb1b93c-5776-4e0b-886a-54c45b29921b",
   "metadata": {},
   "source": [
    "Mean = Median = Mode"
   ]
  },
  {
   "cell_type": "markdown",
   "id": "5952b1f9-a82c-43e1-bb38-fe8c9fd32e04",
   "metadata": {},
   "source": [
    "### Q13. How is covariance different from correlation?"
   ]
  },
  {
   "cell_type": "markdown",
   "id": "271bf70d-01e5-4da3-9095-47704d529f73",
   "metadata": {},
   "source": [
    "Both covariance and correlation measure the relationship and the dependency between two variables. Covariance indicates the direction of the linear relationship between variables. Correlation measures both the strength and direction of the linear relationship between two variables."
   ]
  },
  {
   "cell_type": "markdown",
   "id": "2109c56b-b65c-46f0-9dbe-d2e00638dcac",
   "metadata": {},
   "source": [
    "### Q14. How do outliers affect measures of central tendency and dispersion? Provide an example."
   ]
  },
  {
   "cell_type": "code",
   "execution_count": 47,
   "id": "427ff06f-265e-4c27-a132-e26466041e7b",
   "metadata": {},
   "outputs": [],
   "source": [
    "df2=pd.DataFrame({\"Data\":[1,2,3,4,5]})\n",
    "df3=pd.DataFrame({\"Data\":[1,2,3,4,5,100]})"
   ]
  },
  {
   "cell_type": "code",
   "execution_count": 48,
   "id": "d0a04a31-a7ec-4686-8942-a1c3fbd24ca9",
   "metadata": {},
   "outputs": [
    {
     "data": {
      "text/plain": [
       "Data    3.0\n",
       "dtype: float64"
      ]
     },
     "execution_count": 48,
     "metadata": {},
     "output_type": "execute_result"
    }
   ],
   "source": [
    "df2.mean()"
   ]
  },
  {
   "cell_type": "code",
   "execution_count": 49,
   "id": "2932e3ef-6567-46e8-8a6b-0bc2d932bb3b",
   "metadata": {},
   "outputs": [
    {
     "data": {
      "text/plain": [
       "Data    3.0\n",
       "dtype: float64"
      ]
     },
     "execution_count": 49,
     "metadata": {},
     "output_type": "execute_result"
    }
   ],
   "source": [
    "df2.median()"
   ]
  },
  {
   "cell_type": "code",
   "execution_count": 50,
   "id": "57b9ac83-31b2-406b-9b9d-2d4d0d69400c",
   "metadata": {},
   "outputs": [
    {
     "data": {
      "text/plain": [
       "Data    19.166667\n",
       "dtype: float64"
      ]
     },
     "execution_count": 50,
     "metadata": {},
     "output_type": "execute_result"
    }
   ],
   "source": [
    "df3.mean()"
   ]
  },
  {
   "cell_type": "code",
   "execution_count": 51,
   "id": "79d3e289-b5b4-48b8-8f5b-c2ed6e1a3330",
   "metadata": {},
   "outputs": [
    {
     "data": {
      "text/plain": [
       "Data    3.5\n",
       "dtype: float64"
      ]
     },
     "execution_count": 51,
     "metadata": {},
     "output_type": "execute_result"
    }
   ],
   "source": [
    "df3.median()"
   ]
  },
  {
   "cell_type": "markdown",
   "id": "e879afee-e22c-42cf-8c99-07e5ddfe7808",
   "metadata": {},
   "source": [
    "in the above example we find the  value of mean is varry very much but the value of median is not varry so much due to the outliars "
   ]
  },
  {
   "cell_type": "markdown",
   "id": "b3f32e03-a1cf-4bb2-af10-d7fe4909cd5a",
   "metadata": {},
   "source": [
    "In dispersion we calculate the range of the data we can also observe\n",
    "that \n",
    "in df1 : R1=(5-1)\n",
    "and df2 : R2=(100-1)\n",
    "value is too much differ due to outliars"
   ]
  },
  {
   "cell_type": "code",
   "execution_count": null,
   "id": "4dc4a8d3-1a4f-43f2-ae49-0a0f8c228201",
   "metadata": {},
   "outputs": [],
   "source": []
  },
  {
   "cell_type": "code",
   "execution_count": null,
   "id": "01b92867-7637-4cba-8bb1-b35aa6c06480",
   "metadata": {},
   "outputs": [],
   "source": []
  }
 ],
 "metadata": {
  "kernelspec": {
   "display_name": "Python 3 (ipykernel)",
   "language": "python",
   "name": "python3"
  },
  "language_info": {
   "codemirror_mode": {
    "name": "ipython",
    "version": 3
   },
   "file_extension": ".py",
   "mimetype": "text/x-python",
   "name": "python",
   "nbconvert_exporter": "python",
   "pygments_lexer": "ipython3",
   "version": "3.10.8"
  }
 },
 "nbformat": 4,
 "nbformat_minor": 5
}
